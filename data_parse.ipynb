{
 "cells": [
  {
   "cell_type": "code",
   "execution_count": 1,
   "metadata": {
    "collapsed": true
   },
   "outputs": [],
   "source": [
    "import json"
   ]
  },
  {
   "cell_type": "code",
   "execution_count": 2,
   "metadata": {
    "collapsed": true
   },
   "outputs": [],
   "source": [
    "json_file = '/home/lingfan/study/cpp_task/task/PyTorch-YOLOv3/data/coco/annotations/instances_train2014.json'"
   ]
  },
  {
   "cell_type": "code",
   "execution_count": 3,
   "metadata": {
    "collapsed": true
   },
   "outputs": [],
   "source": [
    "with open(json_file,'r') as f:\n",
    "    \n",
    "    label_dict = json.loads(f.read())"
   ]
  },
  {
   "cell_type": "code",
   "execution_count": 4,
   "metadata": {
    "collapsed": true
   },
   "outputs": [],
   "source": [
    "num = len(label_dict['images'])"
   ]
  },
  {
   "cell_type": "code",
   "execution_count": 5,
   "metadata": {},
   "outputs": [
    {
     "data": {
      "text/plain": [
       "82783"
      ]
     },
     "execution_count": 5,
     "metadata": {},
     "output_type": "execute_result"
    }
   ],
   "source": [
    "num"
   ]
  },
  {
   "cell_type": "code",
   "execution_count": 11,
   "metadata": {},
   "outputs": [
    {
     "data": {
      "text/plain": [
       "604907"
      ]
     },
     "execution_count": 11,
     "metadata": {},
     "output_type": "execute_result"
    }
   ],
   "source": [
    "len(label_dict['annotations'])"
   ]
  },
  {
   "cell_type": "code",
   "execution_count": 7,
   "metadata": {},
   "outputs": [
    {
     "data": {
      "text/plain": [
       "[{'coco_url': 'http://mscoco.org/images/57870',\n",
       "  'date_captured': '2013-11-14 16:28:13',\n",
       "  'file_name': 'COCO_train2014_000000057870.jpg',\n",
       "  'flickr_url': 'http://farm4.staticflickr.com/3153/2970773875_164f0c0b83_z.jpg',\n",
       "  'height': 480,\n",
       "  'id': 57870,\n",
       "  'license': 5,\n",
       "  'width': 640}]"
      ]
     },
     "execution_count": 7,
     "metadata": {},
     "output_type": "execute_result"
    }
   ],
   "source": [
    "label_dict['images'][:1]"
   ]
  },
  {
   "cell_type": "code",
   "execution_count": 10,
   "metadata": {},
   "outputs": [
    {
     "data": {
      "text/plain": [
       "[{'area': 54652.9556,\n",
       "  'bbox': [116.95, 305.86, 285.3, 266.03],\n",
       "  'category_id': 58,\n",
       "  'id': 86,\n",
       "  'image_id': 480023,\n",
       "  'iscrowd': 0,\n",
       "  'segmentation': [[312.29,\n",
       "    562.89,\n",
       "    402.25,\n",
       "    511.49,\n",
       "    400.96,\n",
       "    425.38,\n",
       "    398.39,\n",
       "    372.69,\n",
       "    388.11,\n",
       "    332.85,\n",
       "    318.71,\n",
       "    325.14,\n",
       "    295.58,\n",
       "    305.86,\n",
       "    269.88,\n",
       "    314.86,\n",
       "    258.31,\n",
       "    337.99,\n",
       "    217.19,\n",
       "    321.29,\n",
       "    182.49,\n",
       "    343.13,\n",
       "    141.37,\n",
       "    348.27,\n",
       "    132.37,\n",
       "    358.55,\n",
       "    159.36,\n",
       "    377.83,\n",
       "    116.95,\n",
       "    421.53,\n",
       "    167.07,\n",
       "    499.92,\n",
       "    232.61,\n",
       "    560.32,\n",
       "    300.72,\n",
       "    571.89]]}]"
      ]
     },
     "execution_count": 10,
     "metadata": {},
     "output_type": "execute_result"
    }
   ],
   "source": [
    "label_dict['annotations'][:1]"
   ]
  },
  {
   "cell_type": "code",
   "execution_count": 12,
   "metadata": {
    "collapsed": true
   },
   "outputs": [],
   "source": [
    "label_list = []"
   ]
  },
  {
   "cell_type": "code",
   "execution_count": 15,
   "metadata": {},
   "outputs": [
    {
     "name": "stdout",
     "output_type": "stream",
     "text": [
      "0  done\n",
      "1000  done\n",
      "2000  done\n",
      "3000  done\n",
      "4000  done\n",
      "5000  done\n",
      "6000  done\n",
      "7000  done\n",
      "8000  done\n",
      "9000  done\n",
      "10000  done\n",
      "11000  done\n",
      "12000  done\n",
      "13000  done\n",
      "14000  done\n",
      "15000  done\n",
      "16000  done\n",
      "17000  done\n",
      "18000  done\n",
      "19000  done\n",
      "20000  done\n",
      "21000  done\n",
      "22000  done\n",
      "23000  done\n",
      "24000  done\n",
      "25000  done\n",
      "26000  done\n",
      "27000  done\n",
      "28000  done\n",
      "29000  done\n",
      "30000  done\n",
      "31000  done\n",
      "32000  done\n",
      "33000  done\n",
      "34000  done\n",
      "35000  done\n",
      "36000  done\n",
      "37000  done\n",
      "38000  done\n",
      "39000  done\n",
      "40000  done\n",
      "41000  done\n",
      "42000  done\n",
      "43000  done\n",
      "44000  done\n",
      "45000  done\n",
      "46000  done\n",
      "47000  done\n",
      "48000  done\n",
      "49000  done\n",
      "50000  done\n",
      "51000  done\n",
      "52000  done\n",
      "53000  done\n",
      "54000  done\n",
      "55000  done\n",
      "56000  done\n",
      "57000  done\n",
      "58000  done\n",
      "59000  done\n",
      "60000  done\n",
      "61000  done\n",
      "62000  done\n",
      "63000  done\n",
      "64000  done\n",
      "65000  done\n",
      "66000  done\n",
      "67000  done\n",
      "68000  done\n",
      "69000  done\n",
      "70000  done\n",
      "71000  done\n",
      "72000  done\n",
      "73000  done\n",
      "74000  done\n",
      "75000  done\n",
      "76000  done\n",
      "77000  done\n",
      "78000  done\n",
      "79000  done\n",
      "80000  done\n",
      "81000  done\n",
      "82000  done\n"
     ]
    }
   ],
   "source": [
    "for turn,img in enumerate(label_dict['images']):\n",
    "    img_name = img['file_name']\n",
    "    img_id = img['id']\n",
    "    sublist_ID = []\n",
    "    sublist_box = []\n",
    "    if turn%1000 ==0:\n",
    "        print(str(turn),' done')\n",
    "    for anno in label_dict['annotations']:\n",
    "        if anno['image_id'] == img_id:\n",
    "            sublist_ID.append(anno['category_id'])\n",
    "            sublist_box.append(anno['bbox'])\n",
    "    label_list.append([img_name,sublist_ID,sublist_box])"
   ]
  },
  {
   "cell_type": "code",
   "execution_count": 16,
   "metadata": {},
   "outputs": [
    {
     "data": {
      "text/plain": [
       "82783"
      ]
     },
     "execution_count": 16,
     "metadata": {},
     "output_type": "execute_result"
    }
   ],
   "source": [
    "len(label_list)"
   ]
  },
  {
   "cell_type": "code",
   "execution_count": 17,
   "metadata": {},
   "outputs": [
    {
     "data": {
      "text/plain": [
       "['COCO_train2014_000000057870.jpg',\n",
       " [62, 67, 62, 62, 62, 62, 62, 62, 62, 86, 62, 62, 64, 67, 84, 84, 62],\n",
       " [[233.29, 270.45, 170.32, 203.36],\n",
       "  [1.02, 279.96, 533.09, 200.04],\n",
       "  [476.76, 261.03, 119.73, 201.71],\n",
       "  [10.79, 260.03, 114.33, 124.04],\n",
       "  [367.82, 264.27, 139.15, 215.73],\n",
       "  [539.33, 290.16, 100.67, 179.05],\n",
       "  [364.4, 256.57, 52.66, 26.64],\n",
       "  [152.17, 256.67, 78.41, 29.11],\n",
       "  [1.08, 373.21, 31.28, 106.79],\n",
       "  [298.2, 235.17, 83.01, 34.08],\n",
       "  [285.8, 257.46, 13.97, 16.14],\n",
       "  [20.54, 376.76, 83.24, 55.13],\n",
       "  [263.03, 174.37, 154.64, 125.03],\n",
       "  [560.8, 413.95, 78.29, 65.25],\n",
       "  [296.78, 277.79, 32.48, 11.99],\n",
       "  [292.8, 289.31, 21.41, 11.34],\n",
       "  [90.67, 271.49, 171.84, 208.51]]]"
      ]
     },
     "execution_count": 17,
     "metadata": {},
     "output_type": "execute_result"
    }
   ],
   "source": [
    "label_list[0]"
   ]
  },
  {
   "cell_type": "code",
   "execution_count": 59,
   "metadata": {},
   "outputs": [
    {
     "data": {
      "text/plain": [
       "['COCO_train2014_000000384029.jpg',\n",
       " [1, 61, 61, 60, 60, 60, 60, 61, 61, 61, 61, 61, 61, 61],\n",
       " [[4.82, 2.89, 478.17, 302.71],\n",
       "  [312.35, 229.44, 158.1, 126.29],\n",
       "  [452.63, 149.54, 104.49, 133.02],\n",
       "  [509.23, 8.91, 88.03, 79.12],\n",
       "  [588.34, 12.26, 51.66, 76.88],\n",
       "  [583.0, 0.0, 57.0, 16.31],\n",
       "  [482.16, 107.08, 105.63, 54.37],\n",
       "  [555.87, 228.05, 57.13, 70.87],\n",
       "  [446.02, 151.78, 29.98, 53.39],\n",
       "  [292.06, 235.43, 52.56, 37.37],\n",
       "  [538.37, 147.6, 75.9, 80.99],\n",
       "  [436.8, 228.43, 189.43, 133.71],\n",
       "  [198.8, 272.61, 147.03, 67.63],\n",
       "  [30.72, 230.92, 166.3, 121.81]]]"
      ]
     },
     "execution_count": 59,
     "metadata": {},
     "output_type": "execute_result"
    }
   ],
   "source": [
    "label_list[1]"
   ]
  },
  {
   "cell_type": "code",
   "execution_count": 18,
   "metadata": {
    "collapsed": true
   },
   "outputs": [],
   "source": [
    "txt_file = '/home/lingfan/study/cpp_task/task/PyTorch-YOLOv3/data/coco/label/'"
   ]
  },
  {
   "cell_type": "code",
   "execution_count": 21,
   "metadata": {
    "collapsed": true
   },
   "outputs": [],
   "source": [
    "test_txt = txt_file + label_list[0][0].split('.')[0]+'.txt'"
   ]
  },
  {
   "cell_type": "code",
   "execution_count": 41,
   "metadata": {},
   "outputs": [
    {
     "data": {
      "text/plain": [
       "'/home/lingfan/study/cpp_task/task/PyTorch-YOLOv3/data/coco/label/COCO_train2014_000000057870.txt'"
      ]
     },
     "execution_count": 41,
     "metadata": {},
     "output_type": "execute_result"
    }
   ],
   "source": [
    "test_txt"
   ]
  },
  {
   "cell_type": "code",
   "execution_count": 30,
   "metadata": {
    "collapsed": true
   },
   "outputs": [],
   "source": [
    "with open(test_txt,'w') as f:\n",
    "    \n",
    "    f.write(str(label_list[0][1]))\n",
    "    f.write('\\n')\n",
    "    f.write(str(label_list[0][2]))\n",
    "\n",
    "f.close()"
   ]
  },
  {
   "cell_type": "code",
   "execution_count": 37,
   "metadata": {},
   "outputs": [
    {
     "name": "stdout",
     "output_type": "stream",
     "text": [
      "0\r\n"
     ]
    }
   ],
   "source": [
    "%ls /home/lingfan/study/cpp_task/task/PyTorch-YOLOv3/data/coco/label/ -l |grep \"^-\"|wc -l"
   ]
  },
  {
   "cell_type": "code",
   "execution_count": 38,
   "metadata": {
    "collapsed": true
   },
   "outputs": [],
   "source": [
    "for i in label_list:\n",
    "    txt_address = '/home/lingfan/study/cpp_task/task/PyTorch-YOLOv3/data/coco/label/'+i[0].split('.')[0]+'.txt'\n",
    "    with open(txt_address,'w') as f:\n",
    "        f.write(str(i[1]))\n",
    "        f.write('\\n')\n",
    "        f.write(str(i[2]))\n",
    "\n",
    "    f.close()\n",
    "    "
   ]
  },
  {
   "cell_type": "code",
   "execution_count": 39,
   "metadata": {},
   "outputs": [
    {
     "name": "stdout",
     "output_type": "stream",
     "text": [
      "82783\r\n"
     ]
    }
   ],
   "source": [
    "%ls /home/lingfan/study/cpp_task/task/PyTorch-YOLOv3/data/coco/label/ -l |grep \"^-\"|wc -l"
   ]
  },
  {
   "cell_type": "code",
   "execution_count": 1,
   "metadata": {
    "collapsed": true
   },
   "outputs": [],
   "source": [
    "import cv2"
   ]
  },
  {
   "cell_type": "code",
   "execution_count": 2,
   "metadata": {
    "collapsed": true
   },
   "outputs": [],
   "source": [
    "imgname = 'COCO_train2014_000000000009.jpg'\n",
    "txtname = 'COCO_train2014_000000000009.txt'\n",
    "imgfolder = '/home/lingfan/study/cpp_task/task/PyTorch-YOLOv3/data/coco/images/train2014/'\n",
    "txtfolder = '/home/lingfan/study/cpp_task/task/PyTorch-YOLOv3/data/coco/label/'\n"
   ]
  },
  {
   "cell_type": "code",
   "execution_count": 3,
   "metadata": {
    "collapsed": true
   },
   "outputs": [],
   "source": [
    "img_test = cv2.imread(imgfolder+imgname)"
   ]
  },
  {
   "cell_type": "code",
   "execution_count": 4,
   "metadata": {},
   "outputs": [
    {
     "data": {
      "text/plain": [
       "(480, 640, 3)"
      ]
     },
     "execution_count": 4,
     "metadata": {},
     "output_type": "execute_result"
    }
   ],
   "source": [
    "img_test.shape"
   ]
  },
  {
   "cell_type": "code",
   "execution_count": 5,
   "metadata": {},
   "outputs": [
    {
     "data": {
      "text/plain": [
       "27"
      ]
     },
     "execution_count": 5,
     "metadata": {},
     "output_type": "execute_result"
    }
   ],
   "source": [
    "cv2.imshow(\"test\",img_test)\n",
    "cv2.waitKey(0)"
   ]
  },
  {
   "cell_type": "code",
   "execution_count": 5,
   "metadata": {
    "collapsed": true
   },
   "outputs": [],
   "source": [
    "with open(txtfolder+txtname) as f:\n",
    "    bbox = f.readlines()\n",
    "    f.close()"
   ]
  },
  {
   "cell_type": "code",
   "execution_count": 6,
   "metadata": {},
   "outputs": [
    {
     "data": {
      "text/plain": [
       "['[51, 51, 56, 51, 55, 55, 55, 55]\\n',\n",
       " '[[1.08, 187.69, 611.59, 285.84], [311.73, 4.31, 319.28, 228.68], [249.6, 229.27, 316.24, 245.08], [0.0, 13.51, 434.48, 375.12], [376.2, 40.36, 75.55, 46.53], [465.78, 38.97, 58.07, 46.67], [385.7, 73.66, 84.02, 70.51], [364.05, 2.49, 94.76, 71.07]]']"
      ]
     },
     "execution_count": 6,
     "metadata": {},
     "output_type": "execute_result"
    }
   ],
   "source": [
    "bbox"
   ]
  },
  {
   "cell_type": "code",
   "execution_count": 7,
   "metadata": {
    "collapsed": true
   },
   "outputs": [],
   "source": [
    "classes = bbox[0].replace('[',' ').replace(']',' ').replace(',',' ').split()"
   ]
  },
  {
   "cell_type": "code",
   "execution_count": 8,
   "metadata": {},
   "outputs": [
    {
     "data": {
      "text/plain": [
       "['51', '51', '56', '51', '55', '55', '55', '55']"
      ]
     },
     "execution_count": 8,
     "metadata": {},
     "output_type": "execute_result"
    }
   ],
   "source": [
    "classes"
   ]
  },
  {
   "cell_type": "code",
   "execution_count": 9,
   "metadata": {
    "collapsed": true
   },
   "outputs": [],
   "source": [
    "boxes = bbox[1].replace('[',' ').replace(']',' ').replace(',',' ').split()"
   ]
  },
  {
   "cell_type": "code",
   "execution_count": 10,
   "metadata": {},
   "outputs": [
    {
     "data": {
      "text/plain": [
       "['1.08',\n",
       " '187.69',\n",
       " '611.59',\n",
       " '285.84',\n",
       " '311.73',\n",
       " '4.31',\n",
       " '319.28',\n",
       " '228.68',\n",
       " '249.6',\n",
       " '229.27',\n",
       " '316.24',\n",
       " '245.08',\n",
       " '0.0',\n",
       " '13.51',\n",
       " '434.48',\n",
       " '375.12',\n",
       " '376.2',\n",
       " '40.36',\n",
       " '75.55',\n",
       " '46.53',\n",
       " '465.78',\n",
       " '38.97',\n",
       " '58.07',\n",
       " '46.67',\n",
       " '385.7',\n",
       " '73.66',\n",
       " '84.02',\n",
       " '70.51',\n",
       " '364.05',\n",
       " '2.49',\n",
       " '94.76',\n",
       " '71.07']"
      ]
     },
     "execution_count": 10,
     "metadata": {},
     "output_type": "execute_result"
    }
   ],
   "source": [
    "boxes"
   ]
  },
  {
   "cell_type": "code",
   "execution_count": 11,
   "metadata": {
    "collapsed": true
   },
   "outputs": [],
   "source": [
    "classes = [int(i) for i in classes]\n",
    "boxes = [int(float(i)) for i in boxes]"
   ]
  },
  {
   "cell_type": "code",
   "execution_count": 12,
   "metadata": {
    "collapsed": true
   },
   "outputs": [],
   "source": [
    "for i in range(len(boxes)//4):\n",
    "    x,y,w,h = boxes[i*4:i*4+4]\n",
    "    cv2.rectangle(img_test, (x, y), (x+w, y+h), (0, 255, 0), 3)"
   ]
  },
  {
   "cell_type": "code",
   "execution_count": 13,
   "metadata": {},
   "outputs": [
    {
     "data": {
      "text/plain": [
       "115"
      ]
     },
     "execution_count": 13,
     "metadata": {},
     "output_type": "execute_result"
    }
   ],
   "source": [
    "cv2.imshow(\"test\",img_test)\n",
    "cv2.waitKey(0)"
   ]
  }
 ],
 "metadata": {
  "kernelspec": {
   "display_name": "Python [conda env:yolotest]",
   "language": "python",
   "name": "conda-env-yolotest-py"
  },
  "language_info": {
   "codemirror_mode": {
    "name": "ipython",
    "version": 3
   },
   "file_extension": ".py",
   "mimetype": "text/x-python",
   "name": "python",
   "nbconvert_exporter": "python",
   "pygments_lexer": "ipython3",
   "version": "3.6.2"
  }
 },
 "nbformat": 4,
 "nbformat_minor": 2
}
