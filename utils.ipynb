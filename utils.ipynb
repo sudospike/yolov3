{
 "cells": [
  {
   "cell_type": "code",
   "execution_count": 5,
   "metadata": {
    "collapsed": true
   },
   "outputs": [],
   "source": [
    "import torch\n",
    "from __future__ import division"
   ]
  },
  {
   "cell_type": "code",
   "execution_count": 26,
   "metadata": {
    "collapsed": true
   },
   "outputs": [],
   "source": [
    "def bbox_iou(box1, box2, x1y1x2y2=True):\n",
    "    \n",
    "    if not x1y1x2y2:\n",
    "        b1_x1, b1_x2 = box1[:, 0] - box1[:, 2] / 2, box1[:, 0] + box1[:, 2] / 2\n",
    "        b1_y1, b1_y2 = box1[:, 1] - box1[:, 3] / 2, box1[:, 1] + box1[:, 3] / 2\n",
    "        b2_x1, b2_x2 = box2[:, 0] - box2[:, 2] / 2, box2[:, 0] + box2[:, 2] / 2\n",
    "        b2_y1, b2_y2 = box2[:, 1] - box2[:, 3] / 2, box2[:, 1] + box2[:, 3] / 2\n",
    "    else:\n",
    "        b1_x1, b1_y1, b1_x2, b1_y2 = box1[:,0], box1[:,1], box1[:,2], box1[:,3]\n",
    "        b2_x1, b2_y1, b2_x2, b2_y2 = box2[:,0], box2[:,1], box2[:,2], box2[:,3]\n",
    "\n",
    "    inter_rect_x1 =  torch.max(b1_x1, b2_x1)\n",
    "    inter_rect_y1 =  torch.max(b1_y1, b2_y1)\n",
    "    inter_rect_x2 =  torch.min(b1_x2, b2_x2)\n",
    "    inter_rect_y2 =  torch.min(b1_y2, b2_y2)\n",
    "\n",
    "    inter_area =    torch.clamp(inter_rect_x2 - inter_rect_x1 , min=0) * \\\n",
    "                    torch.clamp(inter_rect_y2 - inter_rect_y1 , min=0)\n",
    "        \n",
    "    b1_area = (b1_x2 - b1_x1 ) * (b1_y2 - b1_y1 )\n",
    "    b2_area = (b2_x2 - b2_x1 ) * (b2_y2 - b2_y1 )\n",
    "\n",
    "    iou = inter_area / (b1_area + b2_area - inter_area + 1e-16)\n",
    "\n",
    "    return iou\n"
   ]
  },
  {
   "cell_type": "code",
   "execution_count": 34,
   "metadata": {},
   "outputs": [],
   "source": [
    "#x1y1x2y2\n",
    "a = torch.tensor([[0.,0.,2.,2.]])\n",
    "b = torch.tensor([[1.,1.,3.,3.],[0.,0.,2.,2.]])\n",
    "#c1c2wh\n",
    "c = torch.tensor([[1.,1.,2.,2.]])\n",
    "d = torch.tensor([[2.,2.,2.,2.]])"
   ]
  },
  {
   "cell_type": "code",
   "execution_count": 22,
   "metadata": {},
   "outputs": [
    {
     "data": {
      "text/plain": [
       "0.08333333333333333"
      ]
     },
     "execution_count": 22,
     "metadata": {},
     "output_type": "execute_result"
    }
   ],
   "source": [
    "1/12"
   ]
  },
  {
   "cell_type": "code",
   "execution_count": 35,
   "metadata": {},
   "outputs": [
    {
     "data": {
      "text/plain": [
       "tensor([ 0.1429,  1.0000])"
      ]
     },
     "execution_count": 35,
     "metadata": {},
     "output_type": "execute_result"
    }
   ],
   "source": [
    "bbox_iou(a,b,True)"
   ]
  },
  {
   "cell_type": "code",
   "execution_count": 28,
   "metadata": {
    "collapsed": true
   },
   "outputs": [],
   "source": [
    "import numpy as np\n",
    "a = np.array([1,2,3])\n",
    "b = np.array([0,a])"
   ]
  },
  {
   "cell_type": "code",
   "execution_count": 30,
   "metadata": {},
   "outputs": [
    {
     "data": {
      "text/plain": [
       "array([1, 2, 3])"
      ]
     },
     "execution_count": 30,
     "metadata": {},
     "output_type": "execute_result"
    }
   ],
   "source": [
    "a"
   ]
  },
  {
   "cell_type": "code",
   "execution_count": 38,
   "metadata": {},
   "outputs": [],
   "source": [
    "def build_targets(pred_boxes, target, anchors, num_anchors, num_classes, dim, ignore_thres, img_dim):\n",
    "    #这个函数的作用是把标记框编码到某一尺寸的fmap上去\n",
    "    #target是标注信息\n",
    "    nB = target.size(0)  #batch个数  16\n",
    "    nA = num_anchors     #锚框个数   3\n",
    "    nC = num_classes     #数据集类别数  80\n",
    "    dim = dim            #feature map的尺寸，即13*13的13\n",
    "\n",
    "    mask        = torch.zeros(nB, nA, dim, dim)     #[16,3,13,13]   全0\n",
    "    conf_mask   = torch.ones(nB, nA, dim, dim)      #[16,3,13,13]   全1\n",
    "    tx          = torch.zeros(nB, nA, dim, dim)     #[16,3,13,13]   全0\n",
    "    ty          = torch.zeros(nB, nA, dim, dim)     #[16,3,13,13]   全0\n",
    "    tw          = torch.zeros(nB, nA, dim, dim)     #[16,3,13,13]   全0\n",
    "    th          = torch.zeros(nB, nA, dim, dim)     #[16,3,13,13]   全0\n",
    "    tconf       = torch.zeros(nB, nA, dim, dim)     #[16,3,13,13]   全0\n",
    "    tcls        = torch.zeros(nB, nA, dim, dim, num_classes)    #[16,3,13,13,80]  全0\n",
    "    nGT = 0  # 统计 真值框个数 GT ground truth\n",
    "    nCorrect = 0  \n",
    "    # 统计 预测出有物体的个数 （即 真值框 与 3个原始锚框与真值框iou最大的那个锚框对应的预测框  之间的iou > 0.5 为预测正确）\n",
    "\n",
    "    for b in range(nB):#16张图遍历\n",
    "        for t in range(target.shape[1]):#每张图的bbox遍历\n",
    "            nGT += 1\n",
    "            gx = target[b, t, 1] * dim\n",
    "            gy = target[b, t, 2] * dim\n",
    "            gw = target[b, t, 3] * dim\n",
    "            gh = target[b, t, 4] * dim\n",
    "            gi = int(gx)\n",
    "            gj = int(gy)\n",
    "            gt_box = torch.FloatTensor(np.array([0, 0, gw, gh])).unsqueeze(0)\n",
    "            anchor_shapes = torch.FloatTensor(np.concatenate((np.zeros((len(anchors), 2)), np.array(anchors)), 1))\n",
    "            anch_ious = bbox_iou(gt_box, anchor_shapes)\n",
    "            conf_mask[b, anch_ious > ignore_thres] = 0\n",
    "            best_n = np.argmax(anch_ious)\n",
    "            \n",
    "            gt_box = torch.FloatTensor(np.array([gx, gy, gw, gh])).unsqueeze(0)\n",
    "            pred_box = pred_boxes[b, best_n, gj, gi].unsqueeze(0)\n",
    "            mask[b, best_n, gj, gi] = 1\n",
    "            conf_mask[b, best_n, gj, gi] = 1\n",
    "            tx[b, best_n, gj, gi] = gx - gi\n",
    "            ty[b, best_n, gj, gi] = gy - gj\n",
    "            tw[b, best_n, gj, gi] = math.log(gw/anchors[best_n][0] + 1e-16)\n",
    "            th[b, best_n, gj, gi] = math.log(gh/anchors[best_n][1] + 1e-16)\n",
    "            tcls[b, best_n, gj, gi, int(target[b, t, 0])] = 1\n",
    "            iou = bbox_iou(gt_box, pred_box, x1y1x2y2=False)\n",
    "            # [16,3,13,13]   全0，有真值框对应的网格位置为1  标明 物体中心点落在该网格中，该网格去负责预测物体\n",
    "            tconf[b, best_n, gj, gi] = 1\n",
    "\n",
    "            if iou > 0.5:\n",
    "                nCorrect += 1\n",
    "    return nGT, nCorrect, mask, conf_mask, tx, ty, tw, th, tconf, tcls"
   ]
  }
 ],
 "metadata": {
  "kernelspec": {
   "display_name": "Python [default]",
   "language": "python",
   "name": "python3"
  },
  "language_info": {
   "codemirror_mode": {
    "name": "ipython",
    "version": 3
   },
   "file_extension": ".py",
   "mimetype": "text/x-python",
   "name": "python",
   "nbconvert_exporter": "python",
   "pygments_lexer": "ipython3",
   "version": "3.6.2"
  }
 },
 "nbformat": 4,
 "nbformat_minor": 2
}
